{
 "cells": [
  {
   "cell_type": "code",
   "execution_count": 5,
   "id": "243a5f39",
   "metadata": {},
   "outputs": [
    {
     "name": "stdout",
     "output_type": "stream",
     "text": [
      "Path to dataset files: /Users/juancamilosalazar/.cache/kagglehub/datasets/abdallahalidev/plantvillage-dataset/versions/3\n"
     ]
    }
   ],
   "source": [
    "import kagglehub\n",
    "\n",
    "# Download latest version\n",
    "path = kagglehub.dataset_download(\"abdallahalidev/plantvillage-dataset\")\n",
    "\n",
    "print(\"Path to dataset files:\", path)"
   ]
  },
  {
   "cell_type": "code",
   "execution_count": 6,
   "id": "acfca033",
   "metadata": {},
   "outputs": [
    {
     "name": "stdout",
     "output_type": "stream",
     "text": [
      "Successfully moved dataset from:\n",
      "  /Users/juancamilosalazar/.cache/kagglehub/datasets/abdallahalidev/plantvillage-dataset/versions/3/plantvillage dataset\n",
      "To:\n",
      "  /Users/juancamilosalazar/Documents/GitHub/clasificiacion_hortalizas/data/plantvillage dataset\n"
     ]
    }
   ],
   "source": [
    "import shutil\n",
    "from pathlib import Path\n",
    "\n",
    "# Source directory (downloaded dataset)\n",
    "source_dir = Path(path)/\"plantvillage dataset\"\n",
    "\n",
    "# Destination directory\n",
    "dest_dir = Path(\"../data/plantvillage dataset\")\n",
    "\n",
    "# Create parent directory if it doesn't exist\n",
    "dest_dir.parent.mkdir(parents=True, exist_ok=True)\n",
    "\n",
    "# Move the entire directory\n",
    "shutil.move(source_dir, dest_dir)\n",
    "print(f\"Successfully moved dataset from:\\n  {source_dir}\")\n",
    "print(f\"To:\\n  {dest_dir.resolve()}\")"
   ]
  },
  {
   "cell_type": "code",
   "execution_count": null,
   "id": "4e24827b",
   "metadata": {},
   "outputs": [],
   "source": []
  }
 ],
 "metadata": {
  "kernelspec": {
   "display_name": ".venv",
   "language": "python",
   "name": "python3"
  },
  "language_info": {
   "codemirror_mode": {
    "name": "ipython",
    "version": 3
   },
   "file_extension": ".py",
   "mimetype": "text/x-python",
   "name": "python",
   "nbconvert_exporter": "python",
   "pygments_lexer": "ipython3",
   "version": "3.12.8"
  }
 },
 "nbformat": 4,
 "nbformat_minor": 5
}
